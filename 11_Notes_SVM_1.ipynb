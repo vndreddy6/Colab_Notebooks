{
  "nbformat": 4,
  "nbformat_minor": 0,
  "metadata": {
    "colab": {
      "provenance": [],
      "toc_visible": true,
      "include_colab_link": true
    },
    "kernelspec": {
      "name": "python3",
      "display_name": "Python 3"
    },
    "language_info": {
      "name": "python"
    }
  },
  "cells": [
    {
      "cell_type": "markdown",
      "metadata": {
        "id": "view-in-github",
        "colab_type": "text"
      },
      "source": [
        "<a href=\"https://colab.research.google.com/github/vndreddy6/Colab_Notebooks/blob/master/11_Notes_SVM_1.ipynb\" target=\"_parent\"><img src=\"https://colab.research.google.com/assets/colab-badge.svg\" alt=\"Open In Colab\"/></a>"
      ]
    },
    {
      "cell_type": "markdown",
      "metadata": {
        "id": "Hr4InsQBBJ-v"
      },
      "source": [
        "## Content\n",
        "\n",
        "- Problem Statement\n",
        "- Geometric Intuition of SVM\n",
        "\n",
        "  \n",
        "- Hard Margin SVM\n",
        "\n",
        "- Soft Margin SVM\n",
        "\n",
        "- Algebric Intuition of SVM\n",
        "\n",
        "- Intution of Hinge Loss\n",
        "\n",
        "- SVM Imbalance\n",
        "\n",
        "- Code Implementation of Linear SVM\n",
        "\n",
        "\n",
        "\n",
        "\n",
        "\n",
        "\n",
        "\n",
        "\n",
        "\n",
        "\n",
        "\n",
        "\n",
        "\n",
        "\n",
        "\n",
        "\n",
        "\n",
        "\n",
        "\n",
        "\n",
        "\n",
        "\n",
        "\n",
        "\n",
        "\n",
        "\n"
      ]
    },
    {
      "cell_type": "markdown",
      "source": [
        "---"
      ],
      "metadata": {
        "id": "ud588DbfCvPP"
      }
    },
    {
      "cell_type": "markdown",
      "metadata": {
        "id": "jgEIfnwZ8oTH"
      },
      "source": [
        "### Problem Statement\n",
        "\n",
        "<img src=\"https://d2beiqkhq929f0.cloudfront.net/public_assets/assets/000/062/338/original/z.png?1705489394\" width=800>\n",
        "\n"
      ]
    },
    {
      "cell_type": "markdown",
      "source": [
        "---"
      ],
      "metadata": {
        "id": "ec15yP1v3t1K"
      }
    },
    {
      "cell_type": "markdown",
      "source": [
        "### SVM - Support Vector Machine\n",
        "\n"
      ],
      "metadata": {
        "id": "EzWHabjL3YAO"
      }
    },
    {
      "cell_type": "markdown",
      "source": [
        "<img src=\"https://d2beiqkhq929f0.cloudfront.net/public_assets/assets/000/062/339/original/z.png?1705489418\" width=800>"
      ],
      "metadata": {
        "id": "uuN_kg7Wxcsk"
      }
    },
    {
      "cell_type": "markdown",
      "source": [
        "---"
      ],
      "metadata": {
        "id": "3AgHhaSkCwpC"
      }
    },
    {
      "cell_type": "markdown",
      "metadata": {
        "id": "i1I9nSCibTgH"
      },
      "source": [
        "### Geometric intution behind SVM\n",
        "\n",
        "<img src='https://d2beiqkhq929f0.cloudfront.net/public_assets/assets/000/062/340/original/z.png?1705489441' width='800'>"
      ]
    },
    {
      "cell_type": "markdown",
      "metadata": {
        "id": "NfLYwoEtVAg3"
      },
      "source": [
        "<img src='https://d2beiqkhq929f0.cloudfront.net/public_assets/assets/000/062/341/original/z.png?1705489464' width='800'>"
      ]
    },
    {
      "cell_type": "markdown",
      "source": [
        "---"
      ],
      "metadata": {
        "id": "dySWqHn8C07p"
      }
    },
    {
      "cell_type": "markdown",
      "source": [
        "<img src='https://d2beiqkhq929f0.cloudfront.net/public_assets/assets/000/062/342/original/z.png?1705489489' width='800'>"
      ],
      "metadata": {
        "id": "YZ3GU2XwCm7q"
      }
    },
    {
      "cell_type": "markdown",
      "source": [
        "---"
      ],
      "metadata": {
        "id": "PhvP1hiGBw-E"
      }
    },
    {
      "cell_type": "markdown",
      "metadata": {
        "id": "xqZ1h8asLJbU"
      },
      "source": [
        "\n",
        "<img src='https://d2beiqkhq929f0.cloudfront.net/public_assets/assets/000/062/343/original/z.png?1705489521' width='800'>\n"
      ]
    },
    {
      "cell_type": "markdown",
      "source": [
        "\n",
        "<img src='https://d2beiqkhq929f0.cloudfront.net/public_assets/assets/000/062/344/original/z.png?1705489546' width='800'>\n"
      ],
      "metadata": {
        "id": "NzDJvg9gug3V"
      }
    },
    {
      "cell_type": "markdown",
      "source": [
        "---"
      ],
      "metadata": {
        "id": "efuXmCjAIYRA"
      }
    },
    {
      "cell_type": "markdown",
      "source": [
        "\n",
        "<img src='https://d2beiqkhq929f0.cloudfront.net/public_assets/assets/000/062/345/original/z.png?1705489572' width='800'>\n",
        "\n"
      ],
      "metadata": {
        "id": "ujXFFh3AzYjV"
      }
    },
    {
      "cell_type": "markdown",
      "source": [
        "---"
      ],
      "metadata": {
        "id": "TqgC2-FOIZOG"
      }
    },
    {
      "cell_type": "markdown",
      "source": [
        "<img src='https://d2beiqkhq929f0.cloudfront.net/public_assets/assets/000/062/346/original/z.png?1705489599' width='800'>\n",
        "\n"
      ],
      "metadata": {
        "id": "EXFSwJhCzwfT"
      }
    },
    {
      "cell_type": "markdown",
      "source": [
        "<img src='https://d2beiqkhq929f0.cloudfront.net/public_assets/assets/000/062/337/original/z.png?1705489355' width='800'>"
      ],
      "metadata": {
        "id": "qpXfsv-sB5O3"
      }
    },
    {
      "cell_type": "markdown",
      "source": [
        "---"
      ],
      "metadata": {
        "id": "Syry9VyiBsuC"
      }
    },
    {
      "cell_type": "markdown",
      "metadata": {
        "id": "PFVM0l7bzA2u"
      },
      "source": [
        "### <b> SVM Demo </b>\n",
        "\n",
        "https://jgreitemann.github.io/svm-demo\n",
        "\n",
        "<img src='https://d2beiqkhq929f0.cloudfront.net/public_assets/assets/000/062/336/original/download.gif?1705489242' height='400' width='650'>"
      ]
    },
    {
      "cell_type": "markdown",
      "source": [
        "---"
      ],
      "metadata": {
        "id": "qervtdLdqxFE"
      }
    },
    {
      "cell_type": "markdown",
      "metadata": {
        "id": "Wis_i8wnbl24"
      },
      "source": [
        "### Hard Margin SVM"
      ]
    },
    {
      "cell_type": "markdown",
      "source": [
        "<img src='https://d2beiqkhq929f0.cloudfront.net/public_assets/assets/000/062/335/original/z.png?1705489104' width='800'>\n",
        "\n"
      ],
      "metadata": {
        "id": "Hz6a7mJQC_DN"
      }
    },
    {
      "cell_type": "markdown",
      "source": [
        "<img src='https://d2beiqkhq929f0.cloudfront.net/public_assets/assets/000/062/334/original/z.png?1705489079' width='800'>\n",
        "\n"
      ],
      "metadata": {
        "id": "CASQxVEqDD25"
      }
    },
    {
      "cell_type": "markdown",
      "source": [
        "<img src='https://d2beiqkhq929f0.cloudfront.net/public_assets/assets/000/062/332/original/z.png?1705489053' width='800'>"
      ],
      "metadata": {
        "id": "oH2uqwj0DEDe"
      }
    },
    {
      "cell_type": "markdown",
      "source": [
        "Example -\n",
        "\n",
        "<img src='https://d2beiqkhq929f0.cloudfront.net/public_assets/assets/000/062/331/original/z.png?1705489026' width='800'>\n",
        "\n"
      ],
      "metadata": {
        "id": "LzpqhhFmFLX2"
      }
    },
    {
      "cell_type": "markdown",
      "source": [
        "<img src='https://d2beiqkhq929f0.cloudfront.net/public_assets/assets/000/062/330/original/z.png?1705489000' width='800'>\n",
        "\n"
      ],
      "metadata": {
        "id": "ZAD5PmfLDEO1"
      }
    },
    {
      "cell_type": "markdown",
      "source": [
        "---"
      ],
      "metadata": {
        "id": "F0oZNsncQUa3"
      }
    },
    {
      "cell_type": "markdown",
      "metadata": {
        "id": "Wxw5AaHMFNzv"
      },
      "source": [
        "<img src='https://d2beiqkhq929f0.cloudfront.net/public_assets/assets/000/062/329/original/z.png?1705488973' width='800'>"
      ]
    },
    {
      "cell_type": "markdown",
      "source": [
        "---"
      ],
      "metadata": {
        "id": "6RDn7JeoQXBk"
      }
    },
    {
      "cell_type": "markdown",
      "metadata": {
        "id": "ybT8Fw_dbyX6"
      },
      "source": [
        "### Soft Margin SVM"
      ]
    },
    {
      "cell_type": "markdown",
      "metadata": {
        "id": "JP8teuA0xWYq"
      },
      "source": [
        "<img src='https://d2beiqkhq929f0.cloudfront.net/public_assets/assets/000/062/328/original/z.png?1705488941' width='800'>\n",
        "\n"
      ]
    },
    {
      "cell_type": "markdown",
      "source": [
        "<img src='https://d2beiqkhq929f0.cloudfront.net/public_assets/assets/000/062/327/original/z.png?1705488915' width='800'>"
      ],
      "metadata": {
        "id": "o9pYBbm7EB3P"
      }
    },
    {
      "cell_type": "markdown",
      "source": [
        "Now, our optimization problem becomes:\n",
        "\n",
        "- $ max \\ \\frac{2}{||w||} $ i.e., the margin\n",
        "- along with minimizing error $ \\zeta_i's $\n",
        "\n",
        "because we're try to get the best possible classificaton.\n",
        "\n",
        "</br>\n",
        "\n",
        "Can we think of another way to write this?\n",
        "\n",
        "Reciprocating above equation,\n",
        "\n",
        "- $ min \\ \\frac{||w||}{2} $ with $ \\zeta_i's $"
      ],
      "metadata": {
        "id": "oXSd4LD0GMH9"
      }
    },
    {
      "cell_type": "markdown",
      "source": [
        "<img src='https://d2beiqkhq929f0.cloudfront.net/public_assets/assets/000/062/326/original/z.png?1705488886' width='800'>\n"
      ],
      "metadata": {
        "id": "Iie_1P9OEB9E"
      }
    },
    {
      "cell_type": "markdown",
      "source": [
        "---"
      ],
      "metadata": {
        "id": "wlPh3dJ1Q6Uo"
      }
    },
    {
      "cell_type": "markdown",
      "source": [
        "### Hyperparameters in SVM"
      ],
      "metadata": {
        "id": "4-b3rcsrFtng"
      }
    },
    {
      "cell_type": "markdown",
      "source": [
        "<img src='https://d2beiqkhq929f0.cloudfront.net/public_assets/assets/000/062/325/original/z.png?1705488851' width='800'>\n",
        "\n"
      ],
      "metadata": {
        "id": "sByBnCX4QSCD"
      }
    },
    {
      "cell_type": "markdown",
      "source": [
        "<img src='https://d2beiqkhq929f0.cloudfront.net/public_assets/assets/000/062/324/original/z.png?1705488501' width='800'>\n",
        "\n",
        "Therefore, we need to find a balance here."
      ],
      "metadata": {
        "id": "5WkqgTPRCiDJ"
      }
    },
    {
      "cell_type": "markdown",
      "source": [
        "---"
      ],
      "metadata": {
        "id": "zutnW--UWM-E"
      }
    },
    {
      "cell_type": "markdown",
      "metadata": {
        "id": "qE0aviGtGRLb"
      },
      "source": [
        "### Algebraic intuition behind SVM"
      ]
    },
    {
      "cell_type": "markdown",
      "source": [
        "\n",
        "<img src='https://d2beiqkhq929f0.cloudfront.net/public_assets/assets/000/062/323/original/z.png?1705488473' width='800'>\n"
      ],
      "metadata": {
        "id": "rQQSnLFBPnYS"
      }
    },
    {
      "cell_type": "markdown",
      "source": [
        "---"
      ],
      "metadata": {
        "id": "G4ueOjz8nCKE"
      }
    },
    {
      "cell_type": "markdown",
      "metadata": {
        "id": "Us5L2La-jl8U"
      },
      "source": [
        "### Hinge Loss\n",
        "\n",
        "\n",
        "\n",
        "<img src='https://d2beiqkhq929f0.cloudfront.net/public_assets/assets/000/062/322/original/z.png?1705488444' width='800'>\n",
        "\n",
        "<img src='https://d2beiqkhq929f0.cloudfront.net/public_assets/assets/000/062/321/original/z.png?1705488415' width='800'>\n",
        "\n",
        "<img src='https://d2beiqkhq929f0.cloudfront.net/public_assets/assets/000/062/320/original/z.png?1705488341' width='800'>\n",
        "\n",
        "\n"
      ]
    },
    {
      "cell_type": "markdown",
      "source": [
        "---"
      ],
      "metadata": {
        "id": "aReSzuHVzsCy"
      }
    },
    {
      "cell_type": "markdown",
      "source": [
        "<img src='https://d2beiqkhq929f0.cloudfront.net/public_assets/assets/000/062/319/original/z.png?1705488312' width='800'>"
      ],
      "metadata": {
        "id": "sYk55lihvJ7J"
      }
    },
    {
      "cell_type": "code",
      "source": [],
      "metadata": {
        "id": "Bql748YmjdZB"
      },
      "execution_count": null,
      "outputs": []
    },
    {
      "cell_type": "markdown",
      "source": [
        "---"
      ],
      "metadata": {
        "id": "SXKUjsJAhr-0"
      }
    },
    {
      "cell_type": "markdown",
      "metadata": {
        "id": "opYVXf-Djkoc"
      },
      "source": [
        "### Comparison with Log Loss"
      ]
    },
    {
      "cell_type": "markdown",
      "source": [
        "<img src='https://d2beiqkhq929f0.cloudfront.net/public_assets/assets/000/062/318/original/z.png?1705488263' width='800'>\n",
        "\n"
      ],
      "metadata": {
        "id": "zVD2Gmiehs0q"
      }
    },
    {
      "cell_type": "markdown",
      "source": [
        "<img src='https://d2beiqkhq929f0.cloudfront.net/public_assets/assets/000/062/317/original/z.png?1705488237' width='800'>\n",
        "\n",
        "\\\n",
        "We will not be deriving how we get this equation."
      ],
      "metadata": {
        "id": "HNOa2VP2AGPU"
      }
    },
    {
      "cell_type": "markdown",
      "source": [
        "---"
      ],
      "metadata": {
        "id": "FNfLrg_IRueZ"
      }
    },
    {
      "cell_type": "markdown",
      "metadata": {
        "id": "--d4Ft-bLEGO"
      },
      "source": [
        "### Data Imbalance"
      ]
    },
    {
      "cell_type": "markdown",
      "metadata": {
        "id": "FHcvOFGDBx-j"
      },
      "source": [
        "<img src='https://d2beiqkhq929f0.cloudfront.net/public_assets/assets/000/062/316/original/z.png?1705488198' width='800'>"
      ]
    },
    {
      "cell_type": "markdown",
      "source": [
        "---"
      ],
      "metadata": {
        "id": "pPE_5qrzRvlW"
      }
    },
    {
      "cell_type": "markdown",
      "metadata": {
        "id": "3OJQU1Z6K5by"
      },
      "source": [
        "### Code implementation of Linear SVM"
      ]
    },
    {
      "cell_type": "code",
      "execution_count": null,
      "metadata": {
        "id": "-P3l-MZwG6L9"
      },
      "outputs": [],
      "source": [
        "import numpy as np\n",
        "import pandas as pd\n",
        "import matplotlib.pyplot as plt\n",
        "from collections import Counter\n",
        "from sklearn import feature_extraction, model_selection, naive_bayes, metrics, svm\n",
        "from sklearn.model_selection import train_test_split, cross_val_score\n",
        "from sklearn.preprocessing import StandardScaler\n",
        "import warnings\n",
        "\n",
        "warnings.filterwarnings('ignore')\n",
        "%matplotlib inline"
      ]
    },
    {
      "cell_type": "code",
      "execution_count": null,
      "metadata": {
        "colab": {
          "base_uri": "https://localhost:8080/"
        },
        "id": "wI5JevCrG6Jn",
        "outputId": "d0945349-4ea2-4f30-f9e2-75b965499c69"
      },
      "outputs": [
        {
          "output_type": "stream",
          "name": "stdout",
          "text": [
            "Downloading...\n",
            "From: https://drive.google.com/uc?id=1QViUZJ5UIBCgxB_qbOXTLs_2V48w7MWo\n",
            "To: /content/Spam_processed.csv\n",
            "\r  0% 0.00/767k [00:00<?, ?B/s]\r 68% 524k/767k [00:00<00:00, 4.28MB/s]\r100% 767k/767k [00:00<00:00, 5.50MB/s]\n"
          ]
        }
      ],
      "source": [
        "!gdown 1QViUZJ5UIBCgxB_qbOXTLs_2V48w7MWo\n",
        "\n",
        "df = pd.read_csv('Spam_processed.csv', encoding='latin-1')\n",
        "df.dropna(inplace = True)"
      ]
    },
    {
      "cell_type": "code",
      "execution_count": null,
      "metadata": {
        "colab": {
          "base_uri": "https://localhost:8080/",
          "height": 424
        },
        "id": "_pDRwUXwHfVW",
        "outputId": "3e07fd61-a54e-493e-a9d3-221abd945bab"
      },
      "outputs": [
        {
          "output_type": "execute_result",
          "data": {
            "text/plain": [
              "      type                                            message  \\\n",
              "0        0  Go until jurong point, crazy.. Available only ...   \n",
              "1        0                      Ok lar... Joking wif u oni...   \n",
              "2        1  Free entry in 2 a wkly comp to win FA Cup fina...   \n",
              "3        0  U dun say so early hor... U c already then say...   \n",
              "4        0  Nah I don't think he goes to usf, he lives aro...   \n",
              "...    ...                                                ...   \n",
              "5567     1  This is the 2nd time we have tried 2 contact u...   \n",
              "5568     0              Will Ì_ b going to esplanade fr home?   \n",
              "5569     0  Pity, * was in mood for that. So...any other s...   \n",
              "5570     0  The guy did some bitching but I acted like i'd...   \n",
              "5571     0                         Rofl. Its true to its name   \n",
              "\n",
              "                                        cleaned_message  \n",
              "0     go jurong point crazy available bugis n great ...  \n",
              "1                               ok lar joking wif u oni  \n",
              "2     free entry 2 wkly comp win fa cup final tkts 2...  \n",
              "3                   u dun say early hor u c already say  \n",
              "4             nah nt think goes usf lives around though  \n",
              "...                                                 ...  \n",
              "5567  2nd time tried 2 contact u u å750 pound prize ...  \n",
              "5568                       ì_ b going esplanade fr home  \n",
              "5569                              pity mood suggestions  \n",
              "5570  guy bitching acted like interested buying some...  \n",
              "5571                                     rofl true name  \n",
              "\n",
              "[5565 rows x 3 columns]"
            ],
            "text/html": [
              "\n",
              "  <div id=\"df-38d5bd5a-04a4-4b07-aaac-cab6cb42a93b\">\n",
              "    <div class=\"colab-df-container\">\n",
              "      <div>\n",
              "<style scoped>\n",
              "    .dataframe tbody tr th:only-of-type {\n",
              "        vertical-align: middle;\n",
              "    }\n",
              "\n",
              "    .dataframe tbody tr th {\n",
              "        vertical-align: top;\n",
              "    }\n",
              "\n",
              "    .dataframe thead th {\n",
              "        text-align: right;\n",
              "    }\n",
              "</style>\n",
              "<table border=\"1\" class=\"dataframe\">\n",
              "  <thead>\n",
              "    <tr style=\"text-align: right;\">\n",
              "      <th></th>\n",
              "      <th>type</th>\n",
              "      <th>message</th>\n",
              "      <th>cleaned_message</th>\n",
              "    </tr>\n",
              "  </thead>\n",
              "  <tbody>\n",
              "    <tr>\n",
              "      <th>0</th>\n",
              "      <td>0</td>\n",
              "      <td>Go until jurong point, crazy.. Available only ...</td>\n",
              "      <td>go jurong point crazy available bugis n great ...</td>\n",
              "    </tr>\n",
              "    <tr>\n",
              "      <th>1</th>\n",
              "      <td>0</td>\n",
              "      <td>Ok lar... Joking wif u oni...</td>\n",
              "      <td>ok lar joking wif u oni</td>\n",
              "    </tr>\n",
              "    <tr>\n",
              "      <th>2</th>\n",
              "      <td>1</td>\n",
              "      <td>Free entry in 2 a wkly comp to win FA Cup fina...</td>\n",
              "      <td>free entry 2 wkly comp win fa cup final tkts 2...</td>\n",
              "    </tr>\n",
              "    <tr>\n",
              "      <th>3</th>\n",
              "      <td>0</td>\n",
              "      <td>U dun say so early hor... U c already then say...</td>\n",
              "      <td>u dun say early hor u c already say</td>\n",
              "    </tr>\n",
              "    <tr>\n",
              "      <th>4</th>\n",
              "      <td>0</td>\n",
              "      <td>Nah I don't think he goes to usf, he lives aro...</td>\n",
              "      <td>nah nt think goes usf lives around though</td>\n",
              "    </tr>\n",
              "    <tr>\n",
              "      <th>...</th>\n",
              "      <td>...</td>\n",
              "      <td>...</td>\n",
              "      <td>...</td>\n",
              "    </tr>\n",
              "    <tr>\n",
              "      <th>5567</th>\n",
              "      <td>1</td>\n",
              "      <td>This is the 2nd time we have tried 2 contact u...</td>\n",
              "      <td>2nd time tried 2 contact u u å750 pound prize ...</td>\n",
              "    </tr>\n",
              "    <tr>\n",
              "      <th>5568</th>\n",
              "      <td>0</td>\n",
              "      <td>Will Ì_ b going to esplanade fr home?</td>\n",
              "      <td>ì_ b going esplanade fr home</td>\n",
              "    </tr>\n",
              "    <tr>\n",
              "      <th>5569</th>\n",
              "      <td>0</td>\n",
              "      <td>Pity, * was in mood for that. So...any other s...</td>\n",
              "      <td>pity mood suggestions</td>\n",
              "    </tr>\n",
              "    <tr>\n",
              "      <th>5570</th>\n",
              "      <td>0</td>\n",
              "      <td>The guy did some bitching but I acted like i'd...</td>\n",
              "      <td>guy bitching acted like interested buying some...</td>\n",
              "    </tr>\n",
              "    <tr>\n",
              "      <th>5571</th>\n",
              "      <td>0</td>\n",
              "      <td>Rofl. Its true to its name</td>\n",
              "      <td>rofl true name</td>\n",
              "    </tr>\n",
              "  </tbody>\n",
              "</table>\n",
              "<p>5565 rows × 3 columns</p>\n",
              "</div>\n",
              "      <button class=\"colab-df-convert\" onclick=\"convertToInteractive('df-38d5bd5a-04a4-4b07-aaac-cab6cb42a93b')\"\n",
              "              title=\"Convert this dataframe to an interactive table.\"\n",
              "              style=\"display:none;\">\n",
              "        \n",
              "  <svg xmlns=\"http://www.w3.org/2000/svg\" height=\"24px\"viewBox=\"0 0 24 24\"\n",
              "       width=\"24px\">\n",
              "    <path d=\"M0 0h24v24H0V0z\" fill=\"none\"/>\n",
              "    <path d=\"M18.56 5.44l.94 2.06.94-2.06 2.06-.94-2.06-.94-.94-2.06-.94 2.06-2.06.94zm-11 1L8.5 8.5l.94-2.06 2.06-.94-2.06-.94L8.5 2.5l-.94 2.06-2.06.94zm10 10l.94 2.06.94-2.06 2.06-.94-2.06-.94-.94-2.06-.94 2.06-2.06.94z\"/><path d=\"M17.41 7.96l-1.37-1.37c-.4-.4-.92-.59-1.43-.59-.52 0-1.04.2-1.43.59L10.3 9.45l-7.72 7.72c-.78.78-.78 2.05 0 2.83L4 21.41c.39.39.9.59 1.41.59.51 0 1.02-.2 1.41-.59l7.78-7.78 2.81-2.81c.8-.78.8-2.07 0-2.86zM5.41 20L4 18.59l7.72-7.72 1.47 1.35L5.41 20z\"/>\n",
              "  </svg>\n",
              "      </button>\n",
              "      \n",
              "  <style>\n",
              "    .colab-df-container {\n",
              "      display:flex;\n",
              "      flex-wrap:wrap;\n",
              "      gap: 12px;\n",
              "    }\n",
              "\n",
              "    .colab-df-convert {\n",
              "      background-color: #E8F0FE;\n",
              "      border: none;\n",
              "      border-radius: 50%;\n",
              "      cursor: pointer;\n",
              "      display: none;\n",
              "      fill: #1967D2;\n",
              "      height: 32px;\n",
              "      padding: 0 0 0 0;\n",
              "      width: 32px;\n",
              "    }\n",
              "\n",
              "    .colab-df-convert:hover {\n",
              "      background-color: #E2EBFA;\n",
              "      box-shadow: 0px 1px 2px rgba(60, 64, 67, 0.3), 0px 1px 3px 1px rgba(60, 64, 67, 0.15);\n",
              "      fill: #174EA6;\n",
              "    }\n",
              "\n",
              "    [theme=dark] .colab-df-convert {\n",
              "      background-color: #3B4455;\n",
              "      fill: #D2E3FC;\n",
              "    }\n",
              "\n",
              "    [theme=dark] .colab-df-convert:hover {\n",
              "      background-color: #434B5C;\n",
              "      box-shadow: 0px 1px 3px 1px rgba(0, 0, 0, 0.15);\n",
              "      filter: drop-shadow(0px 1px 2px rgba(0, 0, 0, 0.3));\n",
              "      fill: #FFFFFF;\n",
              "    }\n",
              "  </style>\n",
              "\n",
              "      <script>\n",
              "        const buttonEl =\n",
              "          document.querySelector('#df-38d5bd5a-04a4-4b07-aaac-cab6cb42a93b button.colab-df-convert');\n",
              "        buttonEl.style.display =\n",
              "          google.colab.kernel.accessAllowed ? 'block' : 'none';\n",
              "\n",
              "        async function convertToInteractive(key) {\n",
              "          const element = document.querySelector('#df-38d5bd5a-04a4-4b07-aaac-cab6cb42a93b');\n",
              "          const dataTable =\n",
              "            await google.colab.kernel.invokeFunction('convertToInteractive',\n",
              "                                                     [key], {});\n",
              "          if (!dataTable) return;\n",
              "\n",
              "          const docLinkHtml = 'Like what you see? Visit the ' +\n",
              "            '<a target=\"_blank\" href=https://colab.research.google.com/notebooks/data_table.ipynb>data table notebook</a>'\n",
              "            + ' to learn more about interactive tables.';\n",
              "          element.innerHTML = '';\n",
              "          dataTable['output_type'] = 'display_data';\n",
              "          await google.colab.output.renderOutput(dataTable, element);\n",
              "          const docLink = document.createElement('div');\n",
              "          docLink.innerHTML = docLinkHtml;\n",
              "          element.appendChild(docLink);\n",
              "        }\n",
              "      </script>\n",
              "    </div>\n",
              "  </div>\n",
              "  "
            ]
          },
          "metadata": {},
          "execution_count": 3
        }
      ],
      "source": [
        "df"
      ]
    },
    {
      "cell_type": "markdown",
      "metadata": {
        "id": "tLPWWiNtLBmK"
      },
      "source": [
        "- Performing train-test split\n",
        "- with [CountVectorization](https://scikit-learn.org/stable/modules/generated/sklearn.feature_extraction.text.CountVectorizer.html)\n",
        "- and StandardScaler."
      ]
    },
    {
      "cell_type": "code",
      "execution_count": null,
      "metadata": {
        "colab": {
          "base_uri": "https://localhost:8080/"
        },
        "id": "dmqZk9oQG6Gw",
        "outputId": "03a07655-ba7c-4205-ef61-78514ff851ed"
      },
      "outputs": [
        {
          "output_type": "stream",
          "name": "stdout",
          "text": [
            "[(4173,), (1392,)]\n",
            "[(4173, 7622), (1392, 7622)]\n",
            "<class 'scipy.sparse._csr.csr_matrix'>\n"
          ]
        }
      ],
      "source": [
        "from sklearn.model_selection import train_test_split\n",
        "\n",
        "df_X_train, df_X_test, y_train, y_test = train_test_split(df['cleaned_message'], df['type'],\n",
        "                                                          test_size=0.25, random_state=47)\n",
        "print([np.shape(df_X_train), np.shape(df_X_test)])\n",
        "\n",
        "# CountVectorizer\n",
        "f = feature_extraction.text.CountVectorizer()\n",
        "X_train = f.fit_transform(df_X_train)\n",
        "X_test = f.transform(df_X_test)\n",
        "\n",
        "# StandardScaler\n",
        "scaler = StandardScaler(with_mean=False) # problems with dense matrix\n",
        "X_train = scaler.fit_transform(X_train)\n",
        "X_test = scaler.transform(X_test)\n",
        "\n",
        "print([np.shape(X_train), np.shape(X_test)])\n",
        "print(type(X_train))"
      ]
    },
    {
      "cell_type": "markdown",
      "metadata": {
        "id": "BIALdxF1vM1Q"
      },
      "source": [
        "Let's train Linear SVM on the given Spam/Ham data.\n"
      ]
    },
    {
      "cell_type": "code",
      "execution_count": null,
      "metadata": {
        "colab": {
          "base_uri": "https://localhost:8080/",
          "height": 118
        },
        "id": "0c_RFq2nrQak",
        "outputId": "9b0e9b2b-615a-4479-8f61-485c4531b8c7"
      },
      "outputs": [
        {
          "output_type": "execute_result",
          "data": {
            "text/plain": [
              "GridSearchCV(cv=3,\n",
              "             estimator=SVC(class_weight={0: 0.1, 1: 0.5}, kernel='linear'),\n",
              "             param_grid={'C': [0.0001, 0.001, 0.01, 0.1, 1, 10]}, scoring='f1')"
            ],
            "text/html": [
              "<style>#sk-container-id-1 {color: black;background-color: white;}#sk-container-id-1 pre{padding: 0;}#sk-container-id-1 div.sk-toggleable {background-color: white;}#sk-container-id-1 label.sk-toggleable__label {cursor: pointer;display: block;width: 100%;margin-bottom: 0;padding: 0.3em;box-sizing: border-box;text-align: center;}#sk-container-id-1 label.sk-toggleable__label-arrow:before {content: \"▸\";float: left;margin-right: 0.25em;color: #696969;}#sk-container-id-1 label.sk-toggleable__label-arrow:hover:before {color: black;}#sk-container-id-1 div.sk-estimator:hover label.sk-toggleable__label-arrow:before {color: black;}#sk-container-id-1 div.sk-toggleable__content {max-height: 0;max-width: 0;overflow: hidden;text-align: left;background-color: #f0f8ff;}#sk-container-id-1 div.sk-toggleable__content pre {margin: 0.2em;color: black;border-radius: 0.25em;background-color: #f0f8ff;}#sk-container-id-1 input.sk-toggleable__control:checked~div.sk-toggleable__content {max-height: 200px;max-width: 100%;overflow: auto;}#sk-container-id-1 input.sk-toggleable__control:checked~label.sk-toggleable__label-arrow:before {content: \"▾\";}#sk-container-id-1 div.sk-estimator input.sk-toggleable__control:checked~label.sk-toggleable__label {background-color: #d4ebff;}#sk-container-id-1 div.sk-label input.sk-toggleable__control:checked~label.sk-toggleable__label {background-color: #d4ebff;}#sk-container-id-1 input.sk-hidden--visually {border: 0;clip: rect(1px 1px 1px 1px);clip: rect(1px, 1px, 1px, 1px);height: 1px;margin: -1px;overflow: hidden;padding: 0;position: absolute;width: 1px;}#sk-container-id-1 div.sk-estimator {font-family: monospace;background-color: #f0f8ff;border: 1px dotted black;border-radius: 0.25em;box-sizing: border-box;margin-bottom: 0.5em;}#sk-container-id-1 div.sk-estimator:hover {background-color: #d4ebff;}#sk-container-id-1 div.sk-parallel-item::after {content: \"\";width: 100%;border-bottom: 1px solid gray;flex-grow: 1;}#sk-container-id-1 div.sk-label:hover label.sk-toggleable__label {background-color: #d4ebff;}#sk-container-id-1 div.sk-serial::before {content: \"\";position: absolute;border-left: 1px solid gray;box-sizing: border-box;top: 0;bottom: 0;left: 50%;z-index: 0;}#sk-container-id-1 div.sk-serial {display: flex;flex-direction: column;align-items: center;background-color: white;padding-right: 0.2em;padding-left: 0.2em;position: relative;}#sk-container-id-1 div.sk-item {position: relative;z-index: 1;}#sk-container-id-1 div.sk-parallel {display: flex;align-items: stretch;justify-content: center;background-color: white;position: relative;}#sk-container-id-1 div.sk-item::before, #sk-container-id-1 div.sk-parallel-item::before {content: \"\";position: absolute;border-left: 1px solid gray;box-sizing: border-box;top: 0;bottom: 0;left: 50%;z-index: -1;}#sk-container-id-1 div.sk-parallel-item {display: flex;flex-direction: column;z-index: 1;position: relative;background-color: white;}#sk-container-id-1 div.sk-parallel-item:first-child::after {align-self: flex-end;width: 50%;}#sk-container-id-1 div.sk-parallel-item:last-child::after {align-self: flex-start;width: 50%;}#sk-container-id-1 div.sk-parallel-item:only-child::after {width: 0;}#sk-container-id-1 div.sk-dashed-wrapped {border: 1px dashed gray;margin: 0 0.4em 0.5em 0.4em;box-sizing: border-box;padding-bottom: 0.4em;background-color: white;}#sk-container-id-1 div.sk-label label {font-family: monospace;font-weight: bold;display: inline-block;line-height: 1.2em;}#sk-container-id-1 div.sk-label-container {text-align: center;}#sk-container-id-1 div.sk-container {/* jupyter's `normalize.less` sets `[hidden] { display: none; }` but bootstrap.min.css set `[hidden] { display: none !important; }` so we also need the `!important` here to be able to override the default hidden behavior on the sphinx rendered scikit-learn.org. See: https://github.com/scikit-learn/scikit-learn/issues/21755 */display: inline-block !important;position: relative;}#sk-container-id-1 div.sk-text-repr-fallback {display: none;}</style><div id=\"sk-container-id-1\" class=\"sk-top-container\"><div class=\"sk-text-repr-fallback\"><pre>GridSearchCV(cv=3,\n",
              "             estimator=SVC(class_weight={0: 0.1, 1: 0.5}, kernel=&#x27;linear&#x27;),\n",
              "             param_grid={&#x27;C&#x27;: [0.0001, 0.001, 0.01, 0.1, 1, 10]}, scoring=&#x27;f1&#x27;)</pre><b>In a Jupyter environment, please rerun this cell to show the HTML representation or trust the notebook. <br />On GitHub, the HTML representation is unable to render, please try loading this page with nbviewer.org.</b></div><div class=\"sk-container\" hidden><div class=\"sk-item sk-dashed-wrapped\"><div class=\"sk-label-container\"><div class=\"sk-label sk-toggleable\"><input class=\"sk-toggleable__control sk-hidden--visually\" id=\"sk-estimator-id-1\" type=\"checkbox\" ><label for=\"sk-estimator-id-1\" class=\"sk-toggleable__label sk-toggleable__label-arrow\">GridSearchCV</label><div class=\"sk-toggleable__content\"><pre>GridSearchCV(cv=3,\n",
              "             estimator=SVC(class_weight={0: 0.1, 1: 0.5}, kernel=&#x27;linear&#x27;),\n",
              "             param_grid={&#x27;C&#x27;: [0.0001, 0.001, 0.01, 0.1, 1, 10]}, scoring=&#x27;f1&#x27;)</pre></div></div></div><div class=\"sk-parallel\"><div class=\"sk-parallel-item\"><div class=\"sk-item\"><div class=\"sk-label-container\"><div class=\"sk-label sk-toggleable\"><input class=\"sk-toggleable__control sk-hidden--visually\" id=\"sk-estimator-id-2\" type=\"checkbox\" ><label for=\"sk-estimator-id-2\" class=\"sk-toggleable__label sk-toggleable__label-arrow\">estimator: SVC</label><div class=\"sk-toggleable__content\"><pre>SVC(class_weight={0: 0.1, 1: 0.5}, kernel=&#x27;linear&#x27;)</pre></div></div></div><div class=\"sk-serial\"><div class=\"sk-item\"><div class=\"sk-estimator sk-toggleable\"><input class=\"sk-toggleable__control sk-hidden--visually\" id=\"sk-estimator-id-3\" type=\"checkbox\" ><label for=\"sk-estimator-id-3\" class=\"sk-toggleable__label sk-toggleable__label-arrow\">SVC</label><div class=\"sk-toggleable__content\"><pre>SVC(class_weight={0: 0.1, 1: 0.5}, kernel=&#x27;linear&#x27;)</pre></div></div></div></div></div></div></div></div></div></div>"
            ]
          },
          "metadata": {},
          "execution_count": 6
        }
      ],
      "source": [
        "# SVC\n",
        "\n",
        "from sklearn.svm import SVC\n",
        "\n",
        "from sklearn.model_selection import GridSearchCV\n",
        "\n",
        "params = {\n",
        "          'C': [1e-4,  0.001, 0.01, 0.1, 1,10] # which hyperparam value of C do you think will work well?\n",
        "         }\n",
        "\n",
        "svc = SVC(class_weight={ 0:0.1, 1:0.5 }, kernel='linear')\n",
        "clf = GridSearchCV(svc, params, scoring = \"f1\", cv=3)\n",
        "\n",
        "clf.fit(X_train, y_train)"
      ]
    },
    {
      "cell_type": "code",
      "execution_count": null,
      "metadata": {
        "colab": {
          "base_uri": "https://localhost:8080/"
        },
        "id": "sFpdPOIoypXt",
        "outputId": "fb452052-53cf-4b66-b39e-625bc93b9e50"
      },
      "outputs": [
        {
          "output_type": "stream",
          "name": "stdout",
          "text": [
            "Parameters:{'C': 0.0001} \n",
            " Mean score: 0.6566305780023073 \n",
            " Rank: 6\n",
            "Parameters:{'C': 0.001} \n",
            " Mean score: 0.7742322485787693 \n",
            " Rank: 1\n",
            "Parameters:{'C': 0.01} \n",
            " Mean score: 0.767533370474547 \n",
            " Rank: 2\n",
            "Parameters:{'C': 0.1} \n",
            " Mean score: 0.7649416969151316 \n",
            " Rank: 3\n",
            "Parameters:{'C': 1} \n",
            " Mean score: 0.7649416969151316 \n",
            " Rank: 3\n",
            "Parameters:{'C': 10} \n",
            " Mean score: 0.7649416969151316 \n",
            " Rank: 3\n"
          ]
        }
      ],
      "source": [
        "res = clf.cv_results_\n",
        "\n",
        "for i in range(len(res[\"params\"])):\n",
        "  print(f\"Parameters:{res['params'][i]} \\n Mean score: {res['mean_test_score'][i]} \\n Rank: {res['rank_test_score'][i]}\")"
      ]
    },
    {
      "cell_type": "markdown",
      "metadata": {
        "id": "xFcTYQgWK47H"
      },
      "source": [
        "As you can see,\n",
        "- we get the best performance when $C=0.001$,\n",
        "- with F1 Score of 0.77.\n",
        "\n",
        "\\\n",
        "Now implementing this SVM on the test data."
      ]
    },
    {
      "cell_type": "code",
      "execution_count": null,
      "metadata": {
        "colab": {
          "base_uri": "https://localhost:8080/"
        },
        "id": "nE5d2TikR7bg",
        "outputId": "84153fa8-2a16-4cf4-8eff-8e6352991218"
      },
      "outputs": [
        {
          "name": "stdout",
          "output_type": "stream",
          "text": [
            "0.8835820895522388\n"
          ]
        }
      ],
      "source": [
        "svc = SVC(C=0.001,class_weight={ 0:0.1, 1:0.5 }, kernel='linear')\n",
        "\n",
        "svc.fit(X_train, y_train)\n",
        "\n",
        "y_pred = svc.predict(X_test)\n",
        "\n",
        "print(metrics.f1_score(y_test,y_pred))"
      ]
    },
    {
      "cell_type": "markdown",
      "metadata": {
        "id": "HXbqg2OKJ3Xc"
      },
      "source": [
        "Linear SVM performs much well\n",
        "- on the Spam/Ham data\n",
        "- with F1 Score of 0.88\n",
        "- when using class weights."
      ]
    }
  ]
}
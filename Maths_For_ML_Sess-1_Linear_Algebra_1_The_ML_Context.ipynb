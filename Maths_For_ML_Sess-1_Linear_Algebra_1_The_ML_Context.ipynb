{
  "nbformat": 4,
  "nbformat_minor": 0,
  "metadata": {
    "colab": {
      "provenance": [],
      "toc_visible": true,
      "include_colab_link": true
    },
    "kernelspec": {
      "name": "python3",
      "display_name": "Python 3"
    },
    "language_info": {
      "name": "python"
    },
    "widgets": {
      "application/vnd.jupyter.widget-state+json": {
        "c21b8a06d55b41f2a1219aae77225817": {
          "model_module": "@jupyter-widgets/controls",
          "model_name": "VBoxModel",
          "model_module_version": "1.5.0",
          "state": {
            "_dom_classes": [
              "widget-interact"
            ],
            "_model_module": "@jupyter-widgets/controls",
            "_model_module_version": "1.5.0",
            "_model_name": "VBoxModel",
            "_view_count": null,
            "_view_module": "@jupyter-widgets/controls",
            "_view_module_version": "1.5.0",
            "_view_name": "VBoxView",
            "box_style": "",
            "children": [
              "IPY_MODEL_a1a1308f2185469b85b2e51641c25759",
              "IPY_MODEL_7b48fd38b60e489797dd77cf0a1c91ed",
              "IPY_MODEL_fba70192c65946b7ad59f7dc6b51514b"
            ],
            "layout": "IPY_MODEL_43dcfa0b2af44d1c92a0012c3f567c77"
          }
        },
        "a1a1308f2185469b85b2e51641c25759": {
          "model_module": "@jupyter-widgets/controls",
          "model_name": "FloatSliderModel",
          "model_module_version": "1.5.0",
          "state": {
            "_dom_classes": [],
            "_model_module": "@jupyter-widgets/controls",
            "_model_module_version": "1.5.0",
            "_model_name": "FloatSliderModel",
            "_view_count": null,
            "_view_module": "@jupyter-widgets/controls",
            "_view_module_version": "1.5.0",
            "_view_name": "FloatSliderView",
            "continuous_update": true,
            "description": "m",
            "description_tooltip": null,
            "disabled": false,
            "layout": "IPY_MODEL_7a4cc4ac103246a2a4a428ffc001ba7d",
            "max": 5,
            "min": -1,
            "orientation": "horizontal",
            "readout": true,
            "readout_format": ".2f",
            "step": 0.1,
            "style": "IPY_MODEL_b6c762503d2c4b7f89ca92977df4a2d3",
            "value": 1.3
          }
        },
        "7b48fd38b60e489797dd77cf0a1c91ed": {
          "model_module": "@jupyter-widgets/controls",
          "model_name": "IntSliderModel",
          "model_module_version": "1.5.0",
          "state": {
            "_dom_classes": [],
            "_model_module": "@jupyter-widgets/controls",
            "_model_module_version": "1.5.0",
            "_model_name": "IntSliderModel",
            "_view_count": null,
            "_view_module": "@jupyter-widgets/controls",
            "_view_module_version": "1.5.0",
            "_view_name": "IntSliderView",
            "continuous_update": true,
            "description": "c",
            "description_tooltip": null,
            "disabled": false,
            "layout": "IPY_MODEL_d913c8a8152f4d339b27c143af3ea978",
            "max": 5,
            "min": -5,
            "orientation": "horizontal",
            "readout": true,
            "readout_format": "d",
            "step": 1,
            "style": "IPY_MODEL_103643bd8f294158a3beb869af523d41",
            "value": -2
          }
        },
        "fba70192c65946b7ad59f7dc6b51514b": {
          "model_module": "@jupyter-widgets/output",
          "model_name": "OutputModel",
          "model_module_version": "1.0.0",
          "state": {
            "_dom_classes": [],
            "_model_module": "@jupyter-widgets/output",
            "_model_module_version": "1.0.0",
            "_model_name": "OutputModel",
            "_view_count": null,
            "_view_module": "@jupyter-widgets/output",
            "_view_module_version": "1.0.0",
            "_view_name": "OutputView",
            "layout": "IPY_MODEL_70946e411f5f46209a5bcd9beb610b49",
            "msg_id": "",
            "outputs": [
              {
                "output_type": "display_data",
                "data": {
                  "text/plain": "<Figure size 640x480 with 1 Axes>",
                  "image/png": "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\n"
                },
                "metadata": {}
              }
            ]
          }
        },
        "43dcfa0b2af44d1c92a0012c3f567c77": {
          "model_module": "@jupyter-widgets/base",
          "model_name": "LayoutModel",
          "model_module_version": "1.2.0",
          "state": {
            "_model_module": "@jupyter-widgets/base",
            "_model_module_version": "1.2.0",
            "_model_name": "LayoutModel",
            "_view_count": null,
            "_view_module": "@jupyter-widgets/base",
            "_view_module_version": "1.2.0",
            "_view_name": "LayoutView",
            "align_content": null,
            "align_items": null,
            "align_self": null,
            "border": null,
            "bottom": null,
            "display": null,
            "flex": null,
            "flex_flow": null,
            "grid_area": null,
            "grid_auto_columns": null,
            "grid_auto_flow": null,
            "grid_auto_rows": null,
            "grid_column": null,
            "grid_gap": null,
            "grid_row": null,
            "grid_template_areas": null,
            "grid_template_columns": null,
            "grid_template_rows": null,
            "height": null,
            "justify_content": null,
            "justify_items": null,
            "left": null,
            "margin": null,
            "max_height": null,
            "max_width": null,
            "min_height": null,
            "min_width": null,
            "object_fit": null,
            "object_position": null,
            "order": null,
            "overflow": null,
            "overflow_x": null,
            "overflow_y": null,
            "padding": null,
            "right": null,
            "top": null,
            "visibility": null,
            "width": null
          }
        },
        "7a4cc4ac103246a2a4a428ffc001ba7d": {
          "model_module": "@jupyter-widgets/base",
          "model_name": "LayoutModel",
          "model_module_version": "1.2.0",
          "state": {
            "_model_module": "@jupyter-widgets/base",
            "_model_module_version": "1.2.0",
            "_model_name": "LayoutModel",
            "_view_count": null,
            "_view_module": "@jupyter-widgets/base",
            "_view_module_version": "1.2.0",
            "_view_name": "LayoutView",
            "align_content": null,
            "align_items": null,
            "align_self": null,
            "border": null,
            "bottom": null,
            "display": null,
            "flex": null,
            "flex_flow": null,
            "grid_area": null,
            "grid_auto_columns": null,
            "grid_auto_flow": null,
            "grid_auto_rows": null,
            "grid_column": null,
            "grid_gap": null,
            "grid_row": null,
            "grid_template_areas": null,
            "grid_template_columns": null,
            "grid_template_rows": null,
            "height": null,
            "justify_content": null,
            "justify_items": null,
            "left": null,
            "margin": null,
            "max_height": null,
            "max_width": null,
            "min_height": null,
            "min_width": null,
            "object_fit": null,
            "object_position": null,
            "order": null,
            "overflow": null,
            "overflow_x": null,
            "overflow_y": null,
            "padding": null,
            "right": null,
            "top": null,
            "visibility": null,
            "width": null
          }
        },
        "b6c762503d2c4b7f89ca92977df4a2d3": {
          "model_module": "@jupyter-widgets/controls",
          "model_name": "SliderStyleModel",
          "model_module_version": "1.5.0",
          "state": {
            "_model_module": "@jupyter-widgets/controls",
            "_model_module_version": "1.5.0",
            "_model_name": "SliderStyleModel",
            "_view_count": null,
            "_view_module": "@jupyter-widgets/base",
            "_view_module_version": "1.2.0",
            "_view_name": "StyleView",
            "description_width": "",
            "handle_color": null
          }
        },
        "d913c8a8152f4d339b27c143af3ea978": {
          "model_module": "@jupyter-widgets/base",
          "model_name": "LayoutModel",
          "model_module_version": "1.2.0",
          "state": {
            "_model_module": "@jupyter-widgets/base",
            "_model_module_version": "1.2.0",
            "_model_name": "LayoutModel",
            "_view_count": null,
            "_view_module": "@jupyter-widgets/base",
            "_view_module_version": "1.2.0",
            "_view_name": "LayoutView",
            "align_content": null,
            "align_items": null,
            "align_self": null,
            "border": null,
            "bottom": null,
            "display": null,
            "flex": null,
            "flex_flow": null,
            "grid_area": null,
            "grid_auto_columns": null,
            "grid_auto_flow": null,
            "grid_auto_rows": null,
            "grid_column": null,
            "grid_gap": null,
            "grid_row": null,
            "grid_template_areas": null,
            "grid_template_columns": null,
            "grid_template_rows": null,
            "height": null,
            "justify_content": null,
            "justify_items": null,
            "left": null,
            "margin": null,
            "max_height": null,
            "max_width": null,
            "min_height": null,
            "min_width": null,
            "object_fit": null,
            "object_position": null,
            "order": null,
            "overflow": null,
            "overflow_x": null,
            "overflow_y": null,
            "padding": null,
            "right": null,
            "top": null,
            "visibility": null,
            "width": null
          }
        },
        "103643bd8f294158a3beb869af523d41": {
          "model_module": "@jupyter-widgets/controls",
          "model_name": "SliderStyleModel",
          "model_module_version": "1.5.0",
          "state": {
            "_model_module": "@jupyter-widgets/controls",
            "_model_module_version": "1.5.0",
            "_model_name": "SliderStyleModel",
            "_view_count": null,
            "_view_module": "@jupyter-widgets/base",
            "_view_module_version": "1.2.0",
            "_view_name": "StyleView",
            "description_width": "",
            "handle_color": null
          }
        },
        "70946e411f5f46209a5bcd9beb610b49": {
          "model_module": "@jupyter-widgets/base",
          "model_name": "LayoutModel",
          "model_module_version": "1.2.0",
          "state": {
            "_model_module": "@jupyter-widgets/base",
            "_model_module_version": "1.2.0",
            "_model_name": "LayoutModel",
            "_view_count": null,
            "_view_module": "@jupyter-widgets/base",
            "_view_module_version": "1.2.0",
            "_view_name": "LayoutView",
            "align_content": null,
            "align_items": null,
            "align_self": null,
            "border": null,
            "bottom": null,
            "display": null,
            "flex": null,
            "flex_flow": null,
            "grid_area": null,
            "grid_auto_columns": null,
            "grid_auto_flow": null,
            "grid_auto_rows": null,
            "grid_column": null,
            "grid_gap": null,
            "grid_row": null,
            "grid_template_areas": null,
            "grid_template_columns": null,
            "grid_template_rows": null,
            "height": null,
            "justify_content": null,
            "justify_items": null,
            "left": null,
            "margin": null,
            "max_height": null,
            "max_width": null,
            "min_height": null,
            "min_width": null,
            "object_fit": null,
            "object_position": null,
            "order": null,
            "overflow": null,
            "overflow_x": null,
            "overflow_y": null,
            "padding": null,
            "right": null,
            "top": null,
            "visibility": null,
            "width": null
          }
        }
      }
    }
  },
  "cells": [
    {
      "cell_type": "markdown",
      "metadata": {
        "id": "view-in-github",
        "colab_type": "text"
      },
      "source": [
        "<a href=\"https://colab.research.google.com/github/vndreddy6/Colab_Notebooks/blob/master/Maths_For_ML_Sess-1_Linear_Algebra_1_The_ML_Context.ipynb\" target=\"_parent\"><img src=\"https://colab.research.google.com/assets/colab-badge.svg\" alt=\"Open In Colab\"/></a>"
      ]
    },
    {
      "cell_type": "markdown",
      "source": [
        "## Content\n",
        "\n",
        "- Introduction to a real life problem\n",
        "  - Terminologies\n",
        "  - Visualizing the data\n",
        "- More ML Examples\n",
        "- Process of Building ML Algorithm\n",
        "- Coordinate Geomtery\n",
        "  - Slope intercept form of Line\n",
        "  - General form of line\n",
        "  - Parallel lines\n",
        "  - Perpedicular lines\n",
        "  - More than 2 dimensions\n",
        "- Halfspaces Intro\n",
        "- Use case: Orange vs Tangerine\n",
        "\n",
        "\n",
        "\n",
        "\n"
      ],
      "metadata": {
        "id": "yOdtPRiwoWHy"
      }
    },
    {
      "cell_type": "markdown",
      "source": [
        "## Introduction to a real life problem"
      ],
      "metadata": {
        "id": "alUr6Wkjp6tm"
      }
    },
    {
      "cell_type": "markdown",
      "source": [
        "let's go through a small video: https://www.youtube.com/shorts/pfnH5lJbMLM"
      ],
      "metadata": {
        "id": "hKc7r1BvqK6f"
      }
    },
    {
      "cell_type": "markdown",
      "source": [
        "Notice how each fish is getting sorted into different buckets.\n",
        "\n",
        "Inherently, we know that there must be a scanner that analyses certain parameters.\n",
        "\n",
        "<br>\n",
        "\n",
        "**What do you think are the parameters based on which the sorting works?**\n",
        "\n",
        "- Weight\n",
        "- Size\n",
        "- Appearance\n",
        "  - Colour\n",
        "  - Shape and so on\n",
        "\n",
        "To solve this automation task we would need the scanner to collect the data send it somewhere (essentially a model), then the model make a prediction using the data and will return the output to the seperator."
      ],
      "metadata": {
        "id": "9k_YttIh-Kv7"
      }
    },
    {
      "cell_type": "markdown",
      "source": [
        "![](https://d2beiqkhq929f0.cloudfront.net/public_assets/assets/000/045/969/original/Screenshot_2023-09-04_at_3.19.25_PM.png?1693820978)"
      ],
      "metadata": {
        "id": "O0aBIbY7k0t9"
      }
    },
    {
      "cell_type": "markdown",
      "source": [
        "#### **Terminologies**"
      ],
      "metadata": {
        "id": "v8rkmC5vIHfj"
      }
    },
    {
      "cell_type": "markdown",
      "source": [
        "Let say that we are given a **Labelled dataset** ie a table as shown below   "
      ],
      "metadata": {
        "id": "yrISxlcHPq7W"
      }
    },
    {
      "cell_type": "markdown",
      "source": [
        "![](https://d2beiqkhq929f0.cloudfront.net/public_assets/assets/000/045/972/original/Screenshot_2023-09-04_at_3.28.03_PM.png?1693821495)"
      ],
      "metadata": {
        "id": "0z3QMDywIMLJ"
      }
    },
    {
      "cell_type": "markdown",
      "source": [
        "**What do you call these parameters that help us determine the fish type?**\n",
        "- It is called **features**.\n",
        "- They are also referred to as **Independent variable**\n",
        "- We can record values of each features using a sensor"
      ],
      "metadata": {
        "id": "ZpqwP9NW-5Bm"
      }
    },
    {
      "cell_type": "markdown",
      "source": [
        "**And this different type of fishes is known as?**\n",
        "- These are known as **targets** or is also called as **labels** or **Dependent Variable**.\n",
        "- It tells us which type does a given row belong to\n",
        "\n",
        "Given a datapoint our job is to predict it's respective Label"
      ],
      "metadata": {
        "id": "fjv4c2kfHen0"
      }
    },
    {
      "cell_type": "markdown",
      "source": [
        "#### **Visualizing the data**"
      ],
      "metadata": {
        "id": "gHWmdsyss_Zo"
      }
    },
    {
      "cell_type": "markdown",
      "source": [
        "So let's take the data that we have and plot them\n",
        "\n",
        "- Since we have 3 features with us let's pick up 2 features which is height and width and create a scatter plot to understand what is their replationship with each other as well as their combined relationship with the target variable.\n",
        "- This is a 2-D plot\n",
        "- As we can see that we can have infinte number lines between green points and the Blue points\n",
        "<br>\n",
        "\n",
        "**The question is which is the best line that we should pick that will help us speerate Blue points from green points?**\n",
        "- This is the question that we will be solving in this entier module."
      ],
      "metadata": {
        "id": "C4l8jpEttHgm"
      }
    },
    {
      "cell_type": "markdown",
      "source": [
        "![](https://d2beiqkhq929f0.cloudfront.net/public_assets/assets/000/045/983/original/Screenshot_2023-09-04_at_3.58.54_PM.png?1693823360)"
      ],
      "metadata": {
        "id": "9NAYWAW0vQzJ"
      }
    },
    {
      "cell_type": "markdown",
      "source": [
        "## More ML Examples"
      ],
      "metadata": {
        "id": "VlBDUh67R_br"
      }
    },
    {
      "cell_type": "markdown",
      "source": [
        "##### **IPL Win Prediction**"
      ],
      "metadata": {
        "id": "A3BWvd1HPVsE"
      }
    },
    {
      "cell_type": "markdown",
      "source": [
        "![](https://d2beiqkhq929f0.cloudfront.net/public_assets/assets/000/045/986/original/Screenshot_2023-09-04_at_4.04.22_PM.png?1693823691)"
      ],
      "metadata": {
        "id": "8RV-EEiUwpIP"
      }
    },
    {
      "cell_type": "markdown",
      "source": [
        "##### **T-Shirt size prediction**"
      ],
      "metadata": {
        "id": "WEzGywpOTMUq"
      }
    },
    {
      "cell_type": "markdown",
      "source": [
        "![](https://d2beiqkhq929f0.cloudfront.net/public_assets/assets/000/045/988/original/Screenshot_2023-09-04_at_4.12.58_PM.png?1693824193)"
      ],
      "metadata": {
        "id": "8cH6EtF7T3ud"
      }
    },
    {
      "cell_type": "markdown",
      "source": [
        "## Process of Builing ML Algorithm"
      ],
      "metadata": {
        "id": "iDWcqKXY2rMX"
      }
    },
    {
      "cell_type": "markdown",
      "source": [
        "![](https://d2beiqkhq929f0.cloudfront.net/public_assets/assets/000/045/993/original/Screenshot_2023-09-04_at_4.33.35_PM.png?1693825433)"
      ],
      "metadata": {
        "id": "ZX3g_bXo3Sb_"
      }
    },
    {
      "cell_type": "markdown",
      "source": [
        "## **Coordinate Geomtery**"
      ],
      "metadata": {
        "id": "feC4AwMz4_mx"
      }
    },
    {
      "cell_type": "markdown",
      "source": [
        "### Basics of Lines"
      ],
      "metadata": {
        "id": "ZphLaR1S6ogD"
      }
    },
    {
      "cell_type": "markdown",
      "source": [
        "The basic equation of Line is\n",
        "\n",
        "**y = mx + c**\n",
        "\n",
        "This is also referred to as **Slope intercept equation** of a Line\n",
        "\n",
        "- **x** is input and is an indepedent variable\n",
        "- **m** is slope of the line ie the angle it makes with the x axis\n",
        "- **c** is the y-intercept\n",
        "- **y** is the output and is a dependant variable ie it is dependent on x given that we keep m and c contant\n",
        "\n",
        "For a given point ($x_1$,$y_1$) if it lies on our line $L_1$ it should satisfy the equation of our line and the equation would be\n",
        "\n",
        "**$y_1=mx_1+C$**\n",
        "\n",
        "- The slope **m** can be calculated by calculating **$tan \\ \\theta$ = $\\frac{y_2 - y_1}{x_2 - x_1}$**, where $(x_1, y_1) \\ (x_2, y_2)$ are two coordinates on the line.\n",
        "\n",
        "- Range of $tan \\ \\theta$ is from -$\\infty$ to $\\infty$\n",
        "- $tan(90)$= $\\infty$ due which there is a limitation which is using the slope intercept form we cannot create a line which is 90 degrees to x-axis and to overcome this we use general form of line"
      ],
      "metadata": {
        "id": "l9IaGoL27ZJV"
      }
    },
    {
      "cell_type": "markdown",
      "source": [
        "![](https://d2beiqkhq929f0.cloudfront.net/public_assets/assets/000/046/001/original/Screenshot_2023-09-04_at_4.51.22_PM.png?1693826495)"
      ],
      "metadata": {
        "id": "iazoxVN27K0n"
      }
    },
    {
      "cell_type": "markdown",
      "source": [
        "### **General form of Line**"
      ],
      "metadata": {
        "id": "UXWPSzP3BBG2"
      }
    },
    {
      "cell_type": "markdown",
      "source": [
        "We might have already studied this form which is\n",
        "\n",
        "**Ax+By+c=0**\n",
        "\n",
        "- Now here instead of using A and B we are using $W_1$ and $W_2$\n",
        "  - In the ML context they are referred to as `weights` that the computer learns\n",
        "- Instead of x and y we use $x_1$ and $x_2$ they both mean the same thing that it has 2 Dimensions\n",
        "  - In the ML context they are referred to as `features` which we saw above line legth, weight,etc.\n",
        "- C is represented as $W_0$\n",
        "  - In the ML context this is referred to as `Bias`\n",
        "- We are essentally changing the way it is represented that is because we follow this form of representation in Machine learning and the terminologies changes when we go to the Machine learning side of representation\n",
        "\n",
        "We can convert general form of line into slope intercept form."
      ],
      "metadata": {
        "id": "2HpI2MpDB7kM"
      }
    },
    {
      "cell_type": "markdown",
      "source": [
        "![](https://d2beiqkhq929f0.cloudfront.net/public_assets/assets/000/046/026/original/Screenshot_2023-09-04_at_5.20.00_PM.png?1693828216)"
      ],
      "metadata": {
        "id": "9VEWlOg1B5hb"
      }
    },
    {
      "cell_type": "markdown",
      "source": [
        "Now using the equation of m that we got after converting general form into slope intercept form\n",
        "- if we want to have a perpedicular line to x axis we know that m has to be infite and we can do that by equating $w_2$ to 0 and we can see that we have a line that is perpedicular to x axis"
      ],
      "metadata": {
        "id": "GCS9A4FPDubA"
      }
    },
    {
      "cell_type": "markdown",
      "source": [
        "![](https://d2beiqkhq929f0.cloudfront.net/public_assets/assets/000/046/032/original/Screenshot_2023-09-04_at_5.39.03_PM.png?1693829486)"
      ],
      "metadata": {
        "id": "2MGu8QcgERau"
      }
    },
    {
      "cell_type": "markdown",
      "source": [
        "Now if we want the y intercept to be equal to 1 using the new equation of the intecept which is\n",
        "\n",
        "$-\\frac{w_0}{w_2}$ where if $w_2=0.8$ then $w_0$ should be equal to -0.8."
      ],
      "metadata": {
        "id": "Tm__qR_IE0-J"
      }
    },
    {
      "cell_type": "markdown",
      "source": [
        "![](https://d2beiqkhq929f0.cloudfront.net/public_assets/assets/000/046/031/original/Screenshot_2023-09-04_at_5.38.03_PM.png?1693829298)"
      ],
      "metadata": {
        "id": "WC6hRTnxGBbD"
      }
    },
    {
      "cell_type": "markdown",
      "source": [
        "### Parallel lines"
      ],
      "metadata": {
        "id": "IPRzpKZIIlx0"
      }
    },
    {
      "cell_type": "markdown",
      "source": [
        "If 2 lines are parallel to each other then they will have same angle with the x-axis which means that both the lines will have same slopes"
      ],
      "metadata": {
        "id": "x5gfeoI-I4wT"
      }
    },
    {
      "cell_type": "markdown",
      "source": [
        "![](https://d2beiqkhq929f0.cloudfront.net/public_assets/assets/000/046/033/original/Screenshot_2023-09-04_at_5.50.27_PM.png?1693830043)"
      ],
      "metadata": {
        "id": "ucMpmHECIpZn"
      }
    },
    {
      "cell_type": "markdown",
      "source": [
        "### Perpendicular Lines"
      ],
      "metadata": {
        "id": "4tsUzWPDJba5"
      }
    },
    {
      "cell_type": "markdown",
      "source": [
        "- The product of the slopes of 2 perpendicular lines is equal to -1\n",
        "- if slope of line1 is $m_1$ and slope of line2 is $m_2$ then the formula to represent slope of 2 perpendicular lines is\n",
        "$m_1*m_2=-1$ which is equal to $m_1=-\\frac{1}{m_2}$\n",
        "- using the general form we have\n",
        "\n",
        "$-\\frac{w_1}{w_2}*-\\frac{w_3}{w_4}=-1$"
      ],
      "metadata": {
        "id": "zlfN63evJ8B7"
      }
    },
    {
      "cell_type": "markdown",
      "source": [
        "![](https://d2beiqkhq929f0.cloudfront.net/public_assets/assets/000/046/036/original/Screenshot_2023-09-04_at_5.54.55_PM.png?1693830314)"
      ],
      "metadata": {
        "id": "ALyemeQXJ5lY"
      }
    },
    {
      "cell_type": "markdown",
      "source": [
        "### More than 2 dimensions"
      ],
      "metadata": {
        "id": "K2QthB1IMYR4"
      }
    },
    {
      "cell_type": "markdown",
      "source": [
        "How can we take the general form of line and expand it to higher dimensions that is till n dimensions?\n",
        "\n",
        "So this is called as the **Generalized equation of a line**\n",
        "\n",
        "- 2D it is a Line\n",
        "- 3D it is a plane\n",
        "- 4D it is 4D hyperplane\n",
        "- nD it is a nD hyperplane\n",
        "\n",
        "The term hyperplanes because we cannot visualize beyound 3D"
      ],
      "metadata": {
        "id": "HfEJsnjhMjEf"
      }
    },
    {
      "cell_type": "markdown",
      "source": [
        "![](https://d2beiqkhq929f0.cloudfront.net/public_assets/assets/000/046/038/original/Screenshot_2023-09-04_at_6.07.51_PM.png?1693831088)"
      ],
      "metadata": {
        "id": "9HP5bUJSM2rn"
      }
    },
    {
      "cell_type": "markdown",
      "source": [
        "## Halfspaces Intro"
      ],
      "metadata": {
        "id": "gGEJSrp4Owrk"
      }
    },
    {
      "cell_type": "markdown",
      "source": [
        "When we draw a line we can see that we are esentially diving the 2D space into 2 differnet spaces\n",
        "- one which lies above the line\n",
        "- other is the one that lies below the line\n",
        "\n",
        "Similarly in 3D we can divide the space into 2 parts using a Plane\n",
        "- One which lines above the plane\n",
        "- other is one that lies below the plane\n",
        "\n",
        "And we can extend this concept till n dimensions\n",
        "\n"
      ],
      "metadata": {
        "id": "VZuhXWWxO1XY"
      }
    },
    {
      "cell_type": "markdown",
      "source": [
        "![](https://d2beiqkhq929f0.cloudfront.net/public_assets/assets/000/046/040/original/Screenshot_2023-09-04_at_6.16.09_PM.png?1693831587)"
      ],
      "metadata": {
        "id": "619GUQ2mOzFJ"
      }
    },
    {
      "cell_type": "markdown",
      "source": [
        "**Why do we care about halfspaces?**\n",
        "- Whenever we are asked to classify a new datapoint we just plot the given datapoint and see in which half space does it belong to using which we can classify the given point.\n",
        "- More on this we'll be clearing in the next class"
      ],
      "metadata": {
        "id": "cE_vBzrCPhgo"
      }
    },
    {
      "cell_type": "markdown",
      "source": [
        "## Use case: Orange vs Tangerine"
      ],
      "metadata": {
        "id": "oxqwR6HuRt5S"
      }
    },
    {
      "cell_type": "markdown",
      "source": [
        "Now suppose this is our usecase, to classify the fruits based on their distinct characteristics"
      ],
      "metadata": {
        "id": "OWomX1PhTPIj"
      }
    },
    {
      "cell_type": "code",
      "source": [
        "!wget https://d2beiqkhq929f0.cloudfront.net/public_assets/assets/000/030/385/original/fruits.csv?1680749521 -O fruits.csv"
      ],
      "metadata": {
        "colab": {
          "base_uri": "https://localhost:8080/"
        },
        "id": "sTmvubFQJ6q1",
        "outputId": "5cbf24b4-6103-4a83-a982-6d698cca2d3e"
      },
      "execution_count": null,
      "outputs": [
        {
          "output_type": "stream",
          "name": "stdout",
          "text": [
            "--2023-11-09 15:20:49--  https://d2beiqkhq929f0.cloudfront.net/public_assets/assets/000/030/385/original/fruits.csv?1680749521\n",
            "Resolving d2beiqkhq929f0.cloudfront.net (d2beiqkhq929f0.cloudfront.net)... 18.172.139.94, 18.172.139.210, 18.172.139.46, ...\n",
            "Connecting to d2beiqkhq929f0.cloudfront.net (d2beiqkhq929f0.cloudfront.net)|18.172.139.94|:443... connected.\n",
            "HTTP request sent, awaiting response... 200 OK\n",
            "Length: 219 [text/plain]\n",
            "Saving to: ‘fruits.csv’\n",
            "\n",
            "\rfruits.csv            0%[                    ]       0  --.-KB/s               \rfruits.csv          100%[===================>]     219  --.-KB/s    in 0s      \n",
            "\n",
            "2023-11-09 15:20:49 (179 MB/s) - ‘fruits.csv’ saved [219/219]\n",
            "\n"
          ]
        }
      ]
    },
    {
      "cell_type": "code",
      "source": [
        "import pandas as pd\n",
        "df = pd.read_csv('fruits.csv')\n",
        "df.head(10)"
      ],
      "metadata": {
        "colab": {
          "base_uri": "https://localhost:8080/",
          "height": 300
        },
        "id": "FCCWSY8qR2z0",
        "outputId": "a1000d4b-d768-4144-dd50-7551e5f8adf1"
      },
      "execution_count": null,
      "outputs": [
        {
          "output_type": "execute_result",
          "data": {
            "text/plain": [
              "   weight  diameter   color       fruit\n",
              "0     4.0       3.0  orange  trangerine\n",
              "1     4.2       4.0  orange  trangerine\n",
              "2     3.8       3.5  orange  trangerine\n",
              "3     4.5       3.8  orange  trangerine\n",
              "4     2.8       5.0  orange      orange\n",
              "5     2.5       5.2  orange      orange\n",
              "6     2.7       5.3  orange      orange\n",
              "7     3.2       4.5  orange      orange"
            ],
            "text/html": [
              "\n",
              "  <div id=\"df-9cf9686e-fae5-4c97-98fd-0d9d2a853dcb\" class=\"colab-df-container\">\n",
              "    <div>\n",
              "<style scoped>\n",
              "    .dataframe tbody tr th:only-of-type {\n",
              "        vertical-align: middle;\n",
              "    }\n",
              "\n",
              "    .dataframe tbody tr th {\n",
              "        vertical-align: top;\n",
              "    }\n",
              "\n",
              "    .dataframe thead th {\n",
              "        text-align: right;\n",
              "    }\n",
              "</style>\n",
              "<table border=\"1\" class=\"dataframe\">\n",
              "  <thead>\n",
              "    <tr style=\"text-align: right;\">\n",
              "      <th></th>\n",
              "      <th>weight</th>\n",
              "      <th>diameter</th>\n",
              "      <th>color</th>\n",
              "      <th>fruit</th>\n",
              "    </tr>\n",
              "  </thead>\n",
              "  <tbody>\n",
              "    <tr>\n",
              "      <th>0</th>\n",
              "      <td>4.0</td>\n",
              "      <td>3.0</td>\n",
              "      <td>orange</td>\n",
              "      <td>trangerine</td>\n",
              "    </tr>\n",
              "    <tr>\n",
              "      <th>1</th>\n",
              "      <td>4.2</td>\n",
              "      <td>4.0</td>\n",
              "      <td>orange</td>\n",
              "      <td>trangerine</td>\n",
              "    </tr>\n",
              "    <tr>\n",
              "      <th>2</th>\n",
              "      <td>3.8</td>\n",
              "      <td>3.5</td>\n",
              "      <td>orange</td>\n",
              "      <td>trangerine</td>\n",
              "    </tr>\n",
              "    <tr>\n",
              "      <th>3</th>\n",
              "      <td>4.5</td>\n",
              "      <td>3.8</td>\n",
              "      <td>orange</td>\n",
              "      <td>trangerine</td>\n",
              "    </tr>\n",
              "    <tr>\n",
              "      <th>4</th>\n",
              "      <td>2.8</td>\n",
              "      <td>5.0</td>\n",
              "      <td>orange</td>\n",
              "      <td>orange</td>\n",
              "    </tr>\n",
              "    <tr>\n",
              "      <th>5</th>\n",
              "      <td>2.5</td>\n",
              "      <td>5.2</td>\n",
              "      <td>orange</td>\n",
              "      <td>orange</td>\n",
              "    </tr>\n",
              "    <tr>\n",
              "      <th>6</th>\n",
              "      <td>2.7</td>\n",
              "      <td>5.3</td>\n",
              "      <td>orange</td>\n",
              "      <td>orange</td>\n",
              "    </tr>\n",
              "    <tr>\n",
              "      <th>7</th>\n",
              "      <td>3.2</td>\n",
              "      <td>4.5</td>\n",
              "      <td>orange</td>\n",
              "      <td>orange</td>\n",
              "    </tr>\n",
              "  </tbody>\n",
              "</table>\n",
              "</div>\n",
              "    <div class=\"colab-df-buttons\">\n",
              "\n",
              "  <div class=\"colab-df-container\">\n",
              "    <button class=\"colab-df-convert\" onclick=\"convertToInteractive('df-9cf9686e-fae5-4c97-98fd-0d9d2a853dcb')\"\n",
              "            title=\"Convert this dataframe to an interactive table.\"\n",
              "            style=\"display:none;\">\n",
              "\n",
              "  <svg xmlns=\"http://www.w3.org/2000/svg\" height=\"24px\" viewBox=\"0 -960 960 960\">\n",
              "    <path d=\"M120-120v-720h720v720H120Zm60-500h600v-160H180v160Zm220 220h160v-160H400v160Zm0 220h160v-160H400v160ZM180-400h160v-160H180v160Zm440 0h160v-160H620v160ZM180-180h160v-160H180v160Zm440 0h160v-160H620v160Z\"/>\n",
              "  </svg>\n",
              "    </button>\n",
              "\n",
              "  <style>\n",
              "    .colab-df-container {\n",
              "      display:flex;\n",
              "      gap: 12px;\n",
              "    }\n",
              "\n",
              "    .colab-df-convert {\n",
              "      background-color: #E8F0FE;\n",
              "      border: none;\n",
              "      border-radius: 50%;\n",
              "      cursor: pointer;\n",
              "      display: none;\n",
              "      fill: #1967D2;\n",
              "      height: 32px;\n",
              "      padding: 0 0 0 0;\n",
              "      width: 32px;\n",
              "    }\n",
              "\n",
              "    .colab-df-convert:hover {\n",
              "      background-color: #E2EBFA;\n",
              "      box-shadow: 0px 1px 2px rgba(60, 64, 67, 0.3), 0px 1px 3px 1px rgba(60, 64, 67, 0.15);\n",
              "      fill: #174EA6;\n",
              "    }\n",
              "\n",
              "    .colab-df-buttons div {\n",
              "      margin-bottom: 4px;\n",
              "    }\n",
              "\n",
              "    [theme=dark] .colab-df-convert {\n",
              "      background-color: #3B4455;\n",
              "      fill: #D2E3FC;\n",
              "    }\n",
              "\n",
              "    [theme=dark] .colab-df-convert:hover {\n",
              "      background-color: #434B5C;\n",
              "      box-shadow: 0px 1px 3px 1px rgba(0, 0, 0, 0.15);\n",
              "      filter: drop-shadow(0px 1px 2px rgba(0, 0, 0, 0.3));\n",
              "      fill: #FFFFFF;\n",
              "    }\n",
              "  </style>\n",
              "\n",
              "    <script>\n",
              "      const buttonEl =\n",
              "        document.querySelector('#df-9cf9686e-fae5-4c97-98fd-0d9d2a853dcb button.colab-df-convert');\n",
              "      buttonEl.style.display =\n",
              "        google.colab.kernel.accessAllowed ? 'block' : 'none';\n",
              "\n",
              "      async function convertToInteractive(key) {\n",
              "        const element = document.querySelector('#df-9cf9686e-fae5-4c97-98fd-0d9d2a853dcb');\n",
              "        const dataTable =\n",
              "          await google.colab.kernel.invokeFunction('convertToInteractive',\n",
              "                                                    [key], {});\n",
              "        if (!dataTable) return;\n",
              "\n",
              "        const docLinkHtml = 'Like what you see? Visit the ' +\n",
              "          '<a target=\"_blank\" href=https://colab.research.google.com/notebooks/data_table.ipynb>data table notebook</a>'\n",
              "          + ' to learn more about interactive tables.';\n",
              "        element.innerHTML = '';\n",
              "        dataTable['output_type'] = 'display_data';\n",
              "        await google.colab.output.renderOutput(dataTable, element);\n",
              "        const docLink = document.createElement('div');\n",
              "        docLink.innerHTML = docLinkHtml;\n",
              "        element.appendChild(docLink);\n",
              "      }\n",
              "    </script>\n",
              "  </div>\n",
              "\n",
              "\n",
              "<div id=\"df-1a43286a-bf2d-4a73-b75c-03bb4ecec8ed\">\n",
              "  <button class=\"colab-df-quickchart\" onclick=\"quickchart('df-1a43286a-bf2d-4a73-b75c-03bb4ecec8ed')\"\n",
              "            title=\"Suggest charts\"\n",
              "            style=\"display:none;\">\n",
              "\n",
              "<svg xmlns=\"http://www.w3.org/2000/svg\" height=\"24px\"viewBox=\"0 0 24 24\"\n",
              "     width=\"24px\">\n",
              "    <g>\n",
              "        <path d=\"M19 3H5c-1.1 0-2 .9-2 2v14c0 1.1.9 2 2 2h14c1.1 0 2-.9 2-2V5c0-1.1-.9-2-2-2zM9 17H7v-7h2v7zm4 0h-2V7h2v10zm4 0h-2v-4h2v4z\"/>\n",
              "    </g>\n",
              "</svg>\n",
              "  </button>\n",
              "\n",
              "<style>\n",
              "  .colab-df-quickchart {\n",
              "      --bg-color: #E8F0FE;\n",
              "      --fill-color: #1967D2;\n",
              "      --hover-bg-color: #E2EBFA;\n",
              "      --hover-fill-color: #174EA6;\n",
              "      --disabled-fill-color: #AAA;\n",
              "      --disabled-bg-color: #DDD;\n",
              "  }\n",
              "\n",
              "  [theme=dark] .colab-df-quickchart {\n",
              "      --bg-color: #3B4455;\n",
              "      --fill-color: #D2E3FC;\n",
              "      --hover-bg-color: #434B5C;\n",
              "      --hover-fill-color: #FFFFFF;\n",
              "      --disabled-bg-color: #3B4455;\n",
              "      --disabled-fill-color: #666;\n",
              "  }\n",
              "\n",
              "  .colab-df-quickchart {\n",
              "    background-color: var(--bg-color);\n",
              "    border: none;\n",
              "    border-radius: 50%;\n",
              "    cursor: pointer;\n",
              "    display: none;\n",
              "    fill: var(--fill-color);\n",
              "    height: 32px;\n",
              "    padding: 0;\n",
              "    width: 32px;\n",
              "  }\n",
              "\n",
              "  .colab-df-quickchart:hover {\n",
              "    background-color: var(--hover-bg-color);\n",
              "    box-shadow: 0 1px 2px rgba(60, 64, 67, 0.3), 0 1px 3px 1px rgba(60, 64, 67, 0.15);\n",
              "    fill: var(--button-hover-fill-color);\n",
              "  }\n",
              "\n",
              "  .colab-df-quickchart-complete:disabled,\n",
              "  .colab-df-quickchart-complete:disabled:hover {\n",
              "    background-color: var(--disabled-bg-color);\n",
              "    fill: var(--disabled-fill-color);\n",
              "    box-shadow: none;\n",
              "  }\n",
              "\n",
              "  .colab-df-spinner {\n",
              "    border: 2px solid var(--fill-color);\n",
              "    border-color: transparent;\n",
              "    border-bottom-color: var(--fill-color);\n",
              "    animation:\n",
              "      spin 1s steps(1) infinite;\n",
              "  }\n",
              "\n",
              "  @keyframes spin {\n",
              "    0% {\n",
              "      border-color: transparent;\n",
              "      border-bottom-color: var(--fill-color);\n",
              "      border-left-color: var(--fill-color);\n",
              "    }\n",
              "    20% {\n",
              "      border-color: transparent;\n",
              "      border-left-color: var(--fill-color);\n",
              "      border-top-color: var(--fill-color);\n",
              "    }\n",
              "    30% {\n",
              "      border-color: transparent;\n",
              "      border-left-color: var(--fill-color);\n",
              "      border-top-color: var(--fill-color);\n",
              "      border-right-color: var(--fill-color);\n",
              "    }\n",
              "    40% {\n",
              "      border-color: transparent;\n",
              "      border-right-color: var(--fill-color);\n",
              "      border-top-color: var(--fill-color);\n",
              "    }\n",
              "    60% {\n",
              "      border-color: transparent;\n",
              "      border-right-color: var(--fill-color);\n",
              "    }\n",
              "    80% {\n",
              "      border-color: transparent;\n",
              "      border-right-color: var(--fill-color);\n",
              "      border-bottom-color: var(--fill-color);\n",
              "    }\n",
              "    90% {\n",
              "      border-color: transparent;\n",
              "      border-bottom-color: var(--fill-color);\n",
              "    }\n",
              "  }\n",
              "</style>\n",
              "\n",
              "  <script>\n",
              "    async function quickchart(key) {\n",
              "      const quickchartButtonEl =\n",
              "        document.querySelector('#' + key + ' button');\n",
              "      quickchartButtonEl.disabled = true;  // To prevent multiple clicks.\n",
              "      quickchartButtonEl.classList.add('colab-df-spinner');\n",
              "      try {\n",
              "        const charts = await google.colab.kernel.invokeFunction(\n",
              "            'suggestCharts', [key], {});\n",
              "      } catch (error) {\n",
              "        console.error('Error during call to suggestCharts:', error);\n",
              "      }\n",
              "      quickchartButtonEl.classList.remove('colab-df-spinner');\n",
              "      quickchartButtonEl.classList.add('colab-df-quickchart-complete');\n",
              "    }\n",
              "    (() => {\n",
              "      let quickchartButtonEl =\n",
              "        document.querySelector('#df-1a43286a-bf2d-4a73-b75c-03bb4ecec8ed button');\n",
              "      quickchartButtonEl.style.display =\n",
              "        google.colab.kernel.accessAllowed ? 'block' : 'none';\n",
              "    })();\n",
              "  </script>\n",
              "</div>\n",
              "    </div>\n",
              "  </div>\n"
            ]
          },
          "metadata": {},
          "execution_count": 3
        }
      ]
    },
    {
      "cell_type": "markdown",
      "source": [
        "Q. What are the features in this dataset?\n",
        "- Weight, Diameter and color\n",
        "\n",
        "Q. What do you call the column **fruit**\n",
        "- Target variable\n",
        "\n",
        "Q. How many classes do we have and which type of ML problem it is?\n",
        "- We have 2 classes and it is a binary classification task"
      ],
      "metadata": {
        "id": "fIm-sSC-R-MO"
      }
    },
    {
      "cell_type": "markdown",
      "source": [
        "Let's plot and see what the data looks like\n"
      ],
      "metadata": {
        "id": "j8q6v8gpTS-u"
      }
    },
    {
      "cell_type": "code",
      "source": [
        "import seaborn as sns\n",
        "sns.scatterplot(x='weight', y = 'diameter', hue='fruit', data=df)"
      ],
      "metadata": {
        "colab": {
          "base_uri": "https://localhost:8080/",
          "height": 467
        },
        "id": "IuAm-_uuR8pg",
        "outputId": "398f7da3-9ea5-42ae-aa47-cdfa21eead5a"
      },
      "execution_count": null,
      "outputs": [
        {
          "output_type": "execute_result",
          "data": {
            "text/plain": [
              "<Axes: xlabel='weight', ylabel='diameter'>"
            ]
          },
          "metadata": {},
          "execution_count": 4
        },
        {
          "output_type": "display_data",
          "data": {
            "text/plain": [
              "<Figure size 640x480 with 1 Axes>"
            ],
            "image/png": "[encoded data removed]"
          },
          "metadata": {}
        }
      ]
    },
    {
      "cell_type": "markdown",
      "source": [
        "Now, if I have to divide the oranges and tangerine , what would be a good line to separate them?"
      ],
      "metadata": {
        "id": "qiqR8n3VSsn6"
      }
    },
    {
      "cell_type": "markdown",
      "source": [
        "![](https://d2beiqkhq929f0.cloudfront.net/public_assets/assets/000/046/073/original/Screenshot_2023-09-04_at_8.12.21_PM.png?1693838553)"
      ],
      "metadata": {
        "id": "34WknhzXSvGK"
      }
    },
    {
      "cell_type": "markdown",
      "source": [
        "Notice, all the three lines separate the orange and blue points\n",
        "\n",
        "**How do we find the best line from these?**\n",
        "\n",
        "- If you notice, the clusters can be defined as\n",
        "  - High diameter, low weight: Orange\n",
        "  - Low diameter, high weight: Tangerine\n",
        "\n",
        "Q. Based on this, which among the 3 would be a good decision boundary?\n",
        "  - Red\n"
      ],
      "metadata": {
        "id": "zzD3ukrpTY2C"
      }
    },
    {
      "cell_type": "markdown",
      "source": [
        "Notice, we are always given the x value ie we'll be getting this from the dataset. So now, we need to find the line's m and c?\n",
        "\n",
        "Let's try to find the value of these parameters and classify the above points using a small simulation"
      ],
      "metadata": {
        "id": "RLI0N2_lTsaQ"
      }
    },
    {
      "cell_type": "code",
      "source": [
        "import numpy as np\n",
        "import matplotlib.pyplot as plt\n",
        "from ipywidgets import interactive\n",
        "\n",
        "def plot_line(m, c):\n",
        "    x = np.linspace(2, 5, num=100)  # generate x values\n",
        "    y = m*x + c  # calculate y values\n",
        "    # plt.plot(x, y)  # plot the line\n",
        "    sns.scatterplot(x='weight', y = 'diameter', hue='fruit', data=df)\n",
        "    plt.plot(x, y)  # plot the line\n",
        "    # plt.ylim(-50, 50)  # set y-axis limits\n",
        "    plt.xlabel('x')\n",
        "    plt.ylabel('y')\n",
        "    plt.title(f'y = {m}x + {c}')\n",
        "    plt.show()\n",
        "\n",
        "interactive_plot = interactive(plot_line, m=(-1, 5, 0.1), c=(-5, 5, 1))\n",
        "interactive_plot"
      ],
      "metadata": {
        "colab": {
          "base_uri": "https://localhost:8080/",
          "height": 536,
          "referenced_widgets": [
            "c21b8a06d55b41f2a1219aae77225817",
            "a1a1308f2185469b85b2e51641c25759",
            "7b48fd38b60e489797dd77cf0a1c91ed",
            "fba70192c65946b7ad59f7dc6b51514b",
            "43dcfa0b2af44d1c92a0012c3f567c77",
            "7a4cc4ac103246a2a4a428ffc001ba7d",
            "b6c762503d2c4b7f89ca92977df4a2d3",
            "d913c8a8152f4d339b27c143af3ea978",
            "103643bd8f294158a3beb869af523d41",
            "70946e411f5f46209a5bcd9beb610b49"
          ]
        },
        "id": "oTB1yhTnSi7Y",
        "outputId": "7be9599a-f5d1-42bf-f999-74c4a61b10c0"
      },
      "execution_count": null,
      "outputs": [
        {
          "output_type": "display_data",
          "data": {
            "text/plain": [
              "interactive(children=(FloatSlider(value=2.0, description='m', max=5.0, min=-1.0), IntSlider(value=0, descripti…"
            ],
            "application/vnd.jupyter.widget-view+json": {
              "version_major": 2,
              "version_minor": 0,
              "model_id": "c21b8a06d55b41f2a1219aae77225817"
            }
          },
          "metadata": {}
        }
      ]
    },
    {
      "cell_type": "markdown",
      "source": [
        "Notice, for\n",
        "- m = 1.7\n",
        "- c = -2\n",
        "\n",
        "We are able to find a good enough line to separate both the orange and blue poitns clusters\n",
        "\n",
        "But do we need to always randomly try out the values to find the parameters?\n",
        "\n",
        "This is where ML comes in. It helps us to calculate these unknown parameters to find the best-fitting line, given the values of x and we'll learn about this in the upcoming class.\n"
      ],
      "metadata": {
        "id": "iJ2sxImiT_x-"
      }
    }
  ]
}